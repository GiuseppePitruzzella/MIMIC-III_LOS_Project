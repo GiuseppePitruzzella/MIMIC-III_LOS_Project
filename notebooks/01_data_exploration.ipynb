{
 "cells": [
  {
   "cell_type": "code",
   "execution_count": null,
   "id": "50fabfbb",
   "metadata": {
    "vscode": {
     "languageId": "shellscript"
    }
   },
   "outputs": [],
   "source": [
    "%%bash\n",
    "\n",
    "mkdir -p data/raw\n",
    "curl -s https://www.dcc.fc.up.pt/~ines/MIMIC-III/ -o DB.html\n",
    "\n",
    "grep -oP 'href=\"\\K[^\"]+\\.csv\\.gz' DB.html > DB_FILE_LIST.txt\n",
    "\n",
    "while IFS= read -r FILE; do\n",
    "    echo \"Downloading: $FILE\"\n",
    "    curl -s -O \"https://www.dcc.fc.up.pt/~ines/MIMIC-III/${FILE}\"\n",
    "    \n",
    "    echo \"Decompressing: $FILE\"\n",
    "    gunzip -f \"$FILE\"\n",
    "\n",
    "    # Rimuove l'estensione .gz dal nome\n",
    "    CSV_NAME=\"${FILE%.gz}\"\n",
    "\n",
    "    echo \"Moving $CSV_NAME to data/raw/\"\n",
    "    mv \"$CSV_NAME\" data/raw/\n",
    "\n",
    "done < DB_FILE_LIST.txt\n",
    "\n",
    "rm -f DB.html DB_FILE_LIST.txt\n"
   ]
  }
 ],
 "metadata": {
  "language_info": {
   "name": "python"
  }
 },
 "nbformat": 4,
 "nbformat_minor": 5
}
