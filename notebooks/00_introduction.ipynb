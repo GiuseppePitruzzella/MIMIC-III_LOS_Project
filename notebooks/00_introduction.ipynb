{
 "cells": [
  {
   "cell_type": "markdown",
   "id": "64cc7de4",
   "metadata": {},
   "source": [
    "# Supervised Modeling Pipeline for ICU Length of Stay Prediction\n",
    "\n",
    "**Authors**: *Giuseppe Pitruzzella, Radvilė Rušaitė, Karlota Bochanaitė*\n",
    "\n",
    "This project is situated within the field of supervised learning, aiming to predict a continuous clinical variable—**Length of Stay (LOS)** in the Intensive Care Unit—using regression models based on neural networks. The approach aligns with fundamental machine learning paradigms studied during the course, including probabilistic optimization techniques such as Maximum A Posteriori (MAP) estimation.\n",
    "\n",
    "The analysis uses real-world data from **MIMIC-III** (Medical Information Mart for Intensive Care), a publicly available clinical database developed by the MIT Lab for Computational Physiology in collaboration with Beth Israel Deaconess Medical Center (Boston). The database contains de-identified health-related data associated with over 60,000 ICU admissions between 2001 and 2012, and has become a globally recognized benchmark for research in medical data science and critical care."
   ]
  },
  {
   "cell_type": "markdown",
   "id": "0f8f1568",
   "metadata": {},
   "source": [
    "**Dataset Setup**\n",
    "To facilitate reproducibility, all necessary .csv files from the MIMIC-III clinical dataset have been kindly provided by the course instructor in compressed format (.csv.gz). The files have been made available via an educational mirror for use in this project."
   ]
  },
  {
   "cell_type": "markdown",
   "id": "ed2595fa",
   "metadata": {},
   "source": [
    "**Environment Setup**\n",
    "Before proceeding with the analysis, make sure all required Python libraries are available. You can automatically install missing dependencies listed in `requirements.txt` by executing the following cell."
   ]
  },
  {
   "cell_type": "code",
   "execution_count": 6,
   "id": "8e330dd7",
   "metadata": {},
   "outputs": [
    {
     "name": "stdout",
     "output_type": "stream",
     "text": [
      "Already installed: torch\n",
      "Already installed: pandas\n",
      "Already installed: matplotlib\n",
      "Already installed: seaborn\n",
      "Already installed: numpy\n",
      "Already installed: scikit-learn\n",
      "Already installed: xgboost\n",
      "Already installed: ipython\n"
     ]
    }
   ],
   "source": [
    "import subprocess\n",
    "import sys\n",
    "import importlib.util\n",
    "\n",
    "# Path to the requirements.txt file\n",
    "req_file = \"../requirements.txt\"  # modify if necessary\n",
    "\n",
    "def read_requirements(file_path):\n",
    "    with open(file_path, \"r\") as f:\n",
    "        return [line.strip().split(\"==\")[0] for line in f if line.strip() and not line.startswith(\"#\")]\n",
    "\n",
    "def is_installed(package_name):\n",
    "    return importlib.util.find_spec(package_name) is not None\n",
    "\n",
    "def pip_install(package_name):\n",
    "    print(f\"Installing: {package_name}\")\n",
    "    subprocess.check_call([sys.executable, \"-m\", \"pip\", \"install\", package_name])\n",
    "\n",
    "# Map exceptions between package name and importable module\n",
    "module_map = {\n",
    "    \"scikit-learn\": \"sklearn\",\n",
    "    \"ipython\": \"IPython\"\n",
    "}\n",
    "\n",
    "# Load packages from requirements.txt\n",
    "required_packages = read_requirements(req_file)\n",
    "\n",
    "# Install only missing packages\n",
    "for pkg in required_packages:\n",
    "    module_name = module_map.get(pkg, pkg)\n",
    "    if not is_installed(module_name):\n",
    "        pip_install(pkg)\n",
    "    else:\n",
    "        print(f\"Already installed: {pkg}\")\n"
   ]
  },
  {
   "cell_type": "markdown",
   "id": "bdc0acec",
   "metadata": {},
   "source": [
    "## Initial Exploration\n",
    "\n",
    "We begin by exploring the main tables in the MIMIC-III dataset. The goal of this first phase is to understand the structure of the database and identify relevant variables that may influence ICU length of stay. Key reference tables include:\n",
    "\n",
    "* `D_ICD_DIAGNOSES.csv` – diagnosis codes (ICD9)\n",
    "* `ICUSTAYS.csv` – ICU stays metadata\n",
    "* `D_ITEMS.csv` – item IDs and descriptions for time-series events"
   ]
  }
 ],
 "metadata": {
  "kernelspec": {
   "display_name": "base",
   "language": "python",
   "name": "python3"
  },
  "language_info": {
   "codemirror_mode": {
    "name": "ipython",
    "version": 3
   },
   "file_extension": ".py",
   "mimetype": "text/x-python",
   "name": "python",
   "nbconvert_exporter": "python",
   "pygments_lexer": "ipython3",
   "version": "3.12.9"
  }
 },
 "nbformat": 4,
 "nbformat_minor": 5
}
