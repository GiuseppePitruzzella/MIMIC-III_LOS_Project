{
 "cells": [
  {
   "cell_type": "markdown",
   "id": "64cc7de4",
   "metadata": {},
   "source": [
    "# Supervised Modeling Pipeline for ICU Length of Stay Prediction\n",
    "\n",
    "**Authors**: *Giuseppe Pitruzzella, Radvilė Rušaitė, Karlota Bochanaitė*\n",
    "\n",
    "This project is situated within the field of supervised learning, aiming to predict a continuous clinical variable—**Length of Stay (LOS)** in the Intensive Care Unit—using regression models based on neural networks. The approach aligns with fundamental machine learning paradigms studied during the course, including probabilistic optimization techniques such as Maximum A Posteriori (MAP) estimation.\n",
    "\n",
    "The analysis uses real-world data from **MIMIC-III** (Medical Information Mart for Intensive Care), a publicly available clinical database developed by the MIT Lab for Computational Physiology in collaboration with Beth Israel Deaconess Medical Center (Boston). The database contains de-identified health-related data associated with over 60,000 ICU admissions between 2001 and 2012, and has become a globally recognized benchmark for research in medical data science and critical care."
   ]
  },
  {
   "cell_type": "markdown",
   "id": "0f8f1568",
   "metadata": {},
   "source": [
    "## Dataset Setup (Run Directly Below)\n",
    "\n",
    "To facilitate reproducibility, the required `.csv` files from the MIMIC-III dataset are downloaded and decompressed **automatically** via the script cell provided just below. This script:\n",
    "\n",
    "* Fetches the list of all available `.csv.gz` files from the educational [mirror site](https://www.dcc.fc.up.pt/~ines/MIMIC-III/)\n",
    "* Downloads and decompresses each file\n",
    "* Organizes them into the `data/raw/` folder\n",
    "\n",
    "> Simply **run the code cell below** to fetch and prepare the full dataset.\n",
    "\n",
    "```python\n",
    "import os\n",
    "\n",
    "# Absolute or relative path of the script\n",
    "script_path = \"../data/raw/download_mimic.sh\"\n",
    "\n",
    "# Check if it exists before executing\n",
    "if os.path.exists(script_path):\n",
    "    print(\"Executing download script...\")\n",
    "    !bash {script_path}\n",
    "else:\n",
    "    print(\"Script not found:\", script_path)\n",
    "```"
   ]
  },
  {
   "cell_type": "code",
   "execution_count": null,
   "id": "4f6f43ba",
   "metadata": {},
   "outputs": [],
   "source": [
    "import subprocess\n",
    "import sys\n",
    "import importlib.util\n",
    "import os"
   ]
  },
  {
   "cell_type": "code",
   "execution_count": null,
   "id": "6298ea90",
   "metadata": {},
   "outputs": [],
   "source": [
    "# Absolute or relative path of the script\n",
    "script_path = \"../data/raw/download_mimic.sh\"\n",
    "\n",
    "# Check if it exists before executing\n",
    "if os.path.exists(script_path):\n",
    "    print(\"Executing download script...\")\n",
    "    !bash {script_path}\n",
    "else:\n",
    "    print(\"Script not found:\", script_path)"
   ]
  },
  {
   "cell_type": "markdown",
   "id": "ed2595fa",
   "metadata": {},
   "source": [
    "## Environment Setup (Run Below)\n",
    "\n",
    "Before proceeding with the analysis, make sure all required Python libraries are available. You can automatically install missing dependencies listed in `requirements.txt` by executing the following cell"
   ]
  },
  {
   "cell_type": "code",
   "execution_count": null,
   "id": "8e330dd7",
   "metadata": {},
   "outputs": [],
   "source": [
    "# Path to the requirements.txt file\n",
    "req_file = \"../requirements.txt\"  # modify if necessary\n",
    "\n",
    "def read_requirements(file_path):\n",
    "    with open(file_path, \"r\") as f:\n",
    "        return [line.strip().split(\"==\")[0] for line in f if line.strip() and not line.startswith(\"#\")]\n",
    "\n",
    "def is_installed(package_name):\n",
    "    return importlib.util.find_spec(package_name) is not None\n",
    "\n",
    "def pip_install(package_name):\n",
    "    print(f\"Installing: {package_name}\")\n",
    "    subprocess.check_call([sys.executable, \"-m\", \"pip\", \"install\", package_name])\n",
    "\n",
    "# Map exceptions between package name and importable module\n",
    "module_map = {\n",
    "    \"scikit-learn\": \"sklearn\",\n",
    "    \"ipython\": \"IPython\"\n",
    "}\n",
    "\n",
    "# Load packages from requirements.txt\n",
    "required_packages = read_requirements(req_file)\n",
    "\n",
    "# Install only missing packages\n",
    "for pkg in required_packages:\n",
    "    module_name = module_map.get(pkg, pkg)\n",
    "    if not is_installed(module_name):\n",
    "        pip_install(pkg)\n",
    "    else:\n",
    "        print(f\"Already installed: {pkg}\")\n"
   ]
  },
  {
   "cell_type": "markdown",
   "id": "bdc0acec",
   "metadata": {},
   "source": [
    "## Initial Exploration\n",
    "\n",
    "We begin by exploring the main tables in the MIMIC-III dataset. The goal of this first phase is to understand the structure of the database and identify relevant variables that may influence ICU length of stay. Key reference tables include:\n",
    "\n",
    "* `D_ICD_DIAGNOSES.csv` – diagnosis codes (ICD9)\n",
    "* `ICUSTAYS.csv` – ICU stays metadata\n",
    "* `D_ITEMS.csv` – item IDs and descriptions for time-series events"
   ]
  }
 ],
 "metadata": {
  "language_info": {
   "name": "python"
  }
 },
 "nbformat": 4,
 "nbformat_minor": 5
}
